{
 "cells": [
  {
   "cell_type": "code",
   "execution_count": 44,
   "metadata": {},
   "outputs": [],
   "source": [
    "url = \"http://localhost:8080/transactions\"\n",
    "payload = {\n",
    "    \"consumer_id\": \"PESSOA A\", \n",
    "    \"product_id\": \"PROD-001\",\n",
    "    \"quantity\": 5\n",
    "}"
   ]
  },
  {
   "cell_type": "markdown",
   "metadata": {},
   "source": [
    "# Single Request"
   ]
  },
  {
   "cell_type": "code",
   "execution_count": 46,
   "metadata": {},
   "outputs": [
    {
     "name": "stdout",
     "output_type": "stream",
     "text": [
      "200\n",
      "Success\n",
      "\n"
     ]
    }
   ],
   "source": [
    "import requests\n",
    "\n",
    "# Making a POST request\n",
    "response = requests.post(url, json=payload)\n",
    "print(response.status_code)\n",
    "print(response.text)   "
   ]
  },
  {
   "cell_type": "markdown",
   "metadata": {},
   "source": [
    "# Flooding"
   ]
  },
  {
   "cell_type": "code",
   "execution_count": 47,
   "metadata": {},
   "outputs": [
    {
     "name": "stdout",
     "output_type": "stream",
     "text": [
      "Success\n",
      "\n",
      "Success\n",
      "\n",
      "Success\n",
      "\n",
      "Success\n",
      "\n",
      "Success\n",
      "\n",
      "Success\n",
      "\n",
      "Success\n",
      "\n",
      "Success\n",
      "\n"
     ]
    }
   ],
   "source": [
    "import aiohttp\n",
    "import asyncio\n",
    "\n",
    "async def make_account():\n",
    "    async with aiohttp.ClientSession() as session:\n",
    "        post_tasks = []\n",
    "        # prepare the coroutines that post\n",
    "        for x in range(8):\n",
    "            post_tasks.append(do_post(session))\n",
    "        # now execute them all at once\n",
    "        await asyncio.gather(*post_tasks)\n",
    "\n",
    "\n",
    "async def do_post(session):\n",
    "    async with session.post(url, json=payload) as response:\n",
    "        data = await response.text()\n",
    "        print(data)\n",
    "\n",
    "await make_account()"
   ]
  },
  {
   "cell_type": "code",
   "execution_count": null,
   "metadata": {},
   "outputs": [],
   "source": []
  }
 ],
 "metadata": {
  "kernelspec": {
   "display_name": "ita",
   "language": "python",
   "name": "python3"
  },
  "language_info": {
   "codemirror_mode": {
    "name": "ipython",
    "version": 3
   },
   "file_extension": ".py",
   "mimetype": "text/x-python",
   "name": "python",
   "nbconvert_exporter": "python",
   "pygments_lexer": "ipython3",
   "version": "3.12.3"
  }
 },
 "nbformat": 4,
 "nbformat_minor": 2
}
